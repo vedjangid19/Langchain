{
 "cells": [
  {
   "cell_type": "markdown",
   "metadata": {},
   "source": [
    "### FAISS\n",
    "\n",
    "facebook ai similarity search \n"
   ]
  },
  {
   "cell_type": "code",
   "execution_count": 1,
   "metadata": {},
   "outputs": [
    {
     "data": {
      "text/plain": [
       "[Document(metadata={'source': 'sample.txt'}, page_content='World War I Books and Art\\n\\nThe bloodshed on the battlefields of the Western Front, and the difficulties its soldiers had for years after the fighting had ended, inspired such works of art as “All Quiet on the Western Front” by Erich Maria Remarque and “In Flanders Fields” by Canadian doctor Lieutenant-Colonel John McCrae. In the latter poem, McCrae writes from the perspective of the fallen soldiers:\\n\\nPublished in 1915, the poem inspired the use of the poppy as a symbol of remembrance.\\n\\nVisual artists like Otto Dix of Germany and British painters Wyndham Lewis, Paul Nash and David Bomberg used their firsthand experience as soldiers in World War I to create their art, capturing the anguish of trench warfare and exploring the themes of technology, violence and landscapes decimated by war.\\nThe Eastern Front\\n\\nOn the Eastern Front of World War I, Russian forces invaded the German-held regions of East Prussia and Poland but were stopped short by German and Austrian forces at the Battle of Tannenberg in late August 1914.\\n\\nDespite that victory, Russia’s assault forced Germany to move two corps from the Western Front to the Eastern, contributing to the German loss in the Battle of the Marne.\\n\\nCombined with the fierce Allied resistance in France, the ability of Russia’s huge war machine to mobilize relatively quickly in the east ensured a longer, more grueling conflict instead of the quick victory Germany had hoped to win under the Schlieffen Plan.\\nRussian Revolution\\n\\nFrom 1914 to 1916, Russia’s army mounted several offensives on World War I’s Eastern Front but was unable to break through German lines.\\n\\nDefeat on the battlefield, combined with economic instability and the scarcity of food and other essentials, led to mounting discontent among the bulk of Russia’s population, especially the poverty-stricken workers and peasants. This increased hostility was directed toward the imperial regime of Czar Nicholas II and his unpopular German-born wife, Alexandra.\\n\\nRussia’s simmering instability exploded in the Russian Revolution of 1917, spearheaded by Vladimir Lenin and the Bolsheviks, which ended czarist rule and brought a halt to Russian participation in World War I.\\n\\nRussia reached an armistice with the Central Powers in early December 1917, freeing German troops to face the remaining Allies on the Western Front.\\nAmerica Enters World War I\\nLusitania\\n\\nAt the outbreak of fighting in 1914, the United States remained on the sidelines of World War I, adopting the policy of neutrality favored by President Woodrow Wilson while continuing to engage in commerce and shipping with European countries on both sides of the conflict.\\n\\nNeutrality, however, it was increasingly difficult to maintain in the face of Germany’s unchecked submarine aggression against neutral ships, including those carrying passengers. In 1915, Germany declared the waters surrounding the British Isles to be a war zone, and German U-boats sunk several commercial and passenger vessels, including some U.S. ships.\\n\\nWidespread protest over the sinking by U-boat of the British ocean liner Lusitania—traveling from New York to Liverpool, England with hundreds of American passengers onboard—in May 1915 helped turn the tide of American public opinion against Germany. In February 1917, Congress passed a $250 million arms appropriations bill intended to make the United States ready for war.\\n\\nGermany sunk four more U.S. merchant ships the following month, and on April 2 Woodrow Wilson appeared before Congress and called for a declaration of war against Germany.\\nGallipoli Campaign\\nBattle of Gallipoli\\n\\nWith World War I having effectively settled into a stalemate in Europe, the Allies attempted to score a victory against the Ottoman Empire, which entered the conflict on the side of the Central Powers in late 1914.\\n\\nAfter a failed attack on the Dardanelles (the strait linking the Sea of Marmara with the Aegean Sea), Allied forces led by Britain launched a large-scale land invasion of the Gallipoli Peninsula in April 1915. The invasion also proved a dismal failure, and in January 1916 Allied forces staged a full retreat from the shores of the peninsula after suffering 250,000 casualties.\\n\\n    Did you know? The young Winston Churchill, then first lord of the British Admiralty, resigned his command after the failed Gallipoli campaign in 1916, accepting a commission with an infantry battalion in France.\\n\\nBritish-led forces also combated the Ottoman Turks in Egypt and Mesopotamia, while in northern Italy, Austrian and Italian troops faced off in a series of 12 battles along the Isonzo River, located at the border between the two nations.\\nBattle of the Isonzo\\n\\nThe First Battle of the Isonzo took place in the late spring of 1915, soon after Italy’s entrance into the war on the Allied side. In the Twelfth Battle of the Isonzo, also known as the Battle of Caporetto (October 1917), German reinforcements helped Austria-Hungary win a decisive victory.\\n\\nAfter Caporetto, Italy’s allies jumped in to offer increased assistance. British and French—and later, American—troops arrived in the region, and the Allies began to take back the Italian Front.\\nWorld War I at Sea\\n\\nIn the years before World War I, the superiority of Britain’s Royal Navy was unchallenged by any other nation’s fleet, but the Imperial German Navy had made substantial strides in closing the gap between the two naval powers. Germany’s strength on the high seas was also aided by its lethal fleet of U-boat submarines.\\n\\nAfter the Battle of Dogger Bank in January 1915, in which the British mounted a surprise attack on German ships in the North Sea, the German navy chose not to confront Britain’s mighty Royal Navy in a major battle for more than a year, preferring to rest the bulk of its naval strategy on its U-boats.\\n\\nThe biggest naval engagement of World War I, the Battle of Jutland (May 1916) left British naval superiority on the North Sea intact, and Germany would make no further attempts to break an Allied naval blockade for the remainder of the war.\\n8 Events That Led to World War I, WWI\\n8 Events that Led to World War I\\n\\nImperialism, nationalistic pride and mutual alliances all played a part in building tensions that would erupt into war.\\nRead more\\nHISTORY: World War I Battles, WWI Timeline\\nWorld War I Battles: Timeline\\n\\nFor four years, from 1914 to 1918, World War I raged across Europe’s western and eastern fronts after growing tensions and then the assassination of Archduke Franz Ferdinand of Austria ignited the war. Trench warfare and the early use of tanks, submarines and airplanes meant the war’s battles were devastatingly bloody, claiming an estimated 40 […]\\nRead more\\n10 Things You May Not Know About the Battle of Verdun\\n\\nExplore 10 surprising facts about one of the longest and most brutal campaigns of World War I.\\nRead more\\nWorld War I Planes\\n\\nWorld War I was the first major conflict to harness the power of planes. Though not as impactful as the British Royal Navy or Germany’s U-boats, the use of planes in World War I presaged their later, pivotal role in military conflicts around the globe.\\n\\nAt the dawn of World War I, aviation was a relatively new field; the Wright brothers took their first sustained flight just eleven years before, in 1903. Aircraft were initially used primarily for reconnaissance missions. During the First Battle of the Marne, information passed from pilots allowed the allies to exploit weak spots in the German lines, helping the Allies to push Germany out of France.\\n\\nThe first machine guns were successfully mounted on planes in June of 1912 in the United States, but were imperfect; if timed incorrectly, a bullet could easily destroy the propeller of the plane it came from. The Morane-Saulnier L, a French plane, provided a solution: The propeller was armored with deflector wedges that prevented bullets from hitting it. The Morane-Saulnier Type L was used by the French, the British Royal Flying Corps (part of the Army), the British Royal Navy Air Service and the Imperial Russian Air Service. The British Bristol Type 22 was another popular model used for both reconnaissance work and as a fighter plane.\\n\\nDutch inventor Anthony Fokker improved upon the French deflector system in 1915. His “interrupter” synchronized the firing of the guns with the plane’s propeller to avoid collisions. Though his most popular plane during WWI was the single-seat Fokker Eindecker, Fokker created over 40 kinds of airplanes for the Germans.\\n\\nThe Allies debuted the Handley-Page HP O/400, the first two-engine bomber, in 1915. As aerial technology progressed, long-range heavy bombers like Germany’s Gotha G.V. (first introduced in 1917) were used to strike cities like London. Their speed and maneuverability proved to be far deadlier than Germany’s earlier Zeppelin raids.\\n\\nBy the war’s end, the Allies were producing five times more aircraft than the Germans. On April 1, 1918, the British created the Royal Air Force, or RAF, the first air force to be a separate military branch independent from the navy or army. \\nSecond Battle of the Marne\\n\\nWith Germany able to build up its strength on the Western Front after the armistice with Russia, Allied troops struggled to hold off another German offensive until promised reinforcements from the United States were able to arrive.\\n\\nOn July 15, 1918, German troops launched what would become the last German offensive of the war, attacking French forces (joined by 85,000 American troops as well as some of the British Expeditionary Force) in the Second Battle of the Marne. The Allies successfully pushed back the German offensive and launched their own counteroffensive just three days later.\\n\\nAfter suffering massive casualties, Germany was forced to call off a planned offensive further north, in the Flanders region stretching between France and Belgium, which was envisioned as Germany’s best hope of victory.\\n\\nThe Second Battle of the Marne turned the tide of war decisively towards the Allies, who were able to regain much of France and Belgium in the months that followed.\\nThe Harlem Hellfighters and Other All-Black Regiments\\nThe Legendary Harlem Hellfighters\\n\\nBy the time World War I began, there were four all-Black regiments in the U.S. military: the 24th and 25th Infantry and the 9th and 10th Cavalry. All four regiments comprised of celebrated soldiers who fought in the Spanish-American War and American-Indian Wars, and served in the American territories. But they were not deployed for overseas combat in World War I. \\n\\nBlacks serving alongside white soldiers on the front lines in Europe was inconceivable to the U.S. military. Instead, the first African American troops sent overseas served in segregated labor battalions, restricted to menial roles in the Army and Navy, and shutout of the Marines, entirely. Their duties mostly included unloading ships, transporting materials from train depots, bases and ports, digging trenches, cooking and maintenance, removing barbed wire and inoperable equipment, and burying soldiers.\\n\\nFacing criticism from the Black community and civil rights organizations for its quotas and treatment of African American soldiers in the war effort, the military formed two Black combat units in 1917, the 92nd and 93rd Divisions. Trained separately and inadequately in the United States, the divisions fared differently in the war. The 92nd faced criticism for their performance in the Meuse-Argonne campaign in September 1918. The 93rd Division, however, had more success. \\nLove letters written by poet Rupert Brooke, to his sweetheart Phyllis Gardner, on display at the British Museum in London. (Credit: Matthew Fearn/PA Images/Getty Images)\\nHow World War I Changed Literature\\n\\nWorld War I altered the world for decades, and writers and poets reflected that shift in literature, novels and poetry.\\nRead more\\nGerman General Alfred Schlieffen, author of the Schlieffen Plan for the defeat of Russian and France. (Credit: Universal History Archive/Getty Images)\\nWas Germany Doomed in World War I by the Schlieffen Plan?\\n\\nThe Schlieffen Plan, devised a decade before the start of World War I, was a failed strategy for Germany to win World War I.\\nRead more\\nHarlem Hellfighters\\nA Harlem Hellfighter’s Searing Tales from the WWI Trenches\\n\\nBlue clouds of poisonous gas. Relentless shelling and machine gun fire. Horace Pippin’s art-filled journals recorded life in ‘them lonely, cooty, muddy trenches.’\\nRead more\\n\\nWith dwindling armies, France asked America for reinforcements, and General John Pershing, commander of the American Expeditionary Forces, sent regiments in the 93 Division to over, since France had experience fighting alongside Black soldiers from their Senegalese French Colonial army. The 93 Division’s 369 regiment, nicknamed the Harlem Hellfighters, fought so gallantly, with a total of 191 days on the front lines, longer than any AEF regiment, that France awarded them the Croix de Guerre for their heroism. More than 350,000 African American soldiers would serve in World War I in various capacities.\\nToward Armistice\\n\\nBy the fall of 1918, the Central Powers were unraveling on all fronts.\\n\\nDespite the Turkish victory at Gallipoli, later defeats by invading forces and an Arab revolt that destroyed the Ottoman economy and devastated its land, and the Turks signed a treaty with the Allies in late October 1918.\\n\\nAustria-Hungary, dissolving from within due to growing nationalist movements among its diverse population, reached an armistice on November 4. Facing dwindling resources on the battlefield, discontent on the homefront and the surrender of its allies, Germany was finally forced to seek an armistice on November 11, 1918, ending World War I.\\nTreaty of Versailles\\n\\nAt the Paris Peace Conference in 1919, Allied leaders stated their desire to build a post-war world that would safeguard itself against future conflicts of such a devastating scale.\\n\\nSome hopeful participants had even begun calling World War I “the War to End All Wars.” But the Treaty of Versailles, signed on June 28, 1919, would not achieve that lofty goal.\\n\\nSaddled with war guilt, heavy reparations and denied entrance into the League of Nations, Germany felt tricked into signing the treaty, having believed any peace would be a “peace without victory,” as put forward by President Wilson in his famous Fourteen Points speech of January 1918.\\n\\nAs the years passed, hatred of the Versailles treaty and its authors settled into a smoldering resentment in Germany that would, two decades later, be counted among the causes of World War II.\\nWorld War I Casualties\\n\\nWorld War I took the lives of more than 9 million soldiers; 21 million more were wounded. Civilian casualties numbered close to 10 million. The two nations most affected were Germany and France, each of which sent some 80 percent of their male populations between the ages of 15 and 49 into battle.\\n\\nThe political disruption surrounding World War I also contributed to the fall of four venerable imperial dynasties: Germany, Austria-Hungary, Russia and Turkey.\\nLegacy of World War I\\nThe Spanish Flu Was Deadlier Than WWI\\n\\nWorld War I brought about massive social upheaval, as millions of women entered the workforce to replace men who went to war and those who never came back. The first global war also helped to spread one of the world’s deadliest global pandemics, the Spanish flu epidemic of 1918, which killed an estimated 20 to 50 million people.\\n\\nWorld War I has also been referred to as “the first modern war.” Many of the technologies now associated with military conflict—machine guns, tanks, aerial combat and radio communications—were introduced on a massive scale during World War I.\\n\\nThe severe effects that chemical weapons such as mustard gas and phosgene had on soldiers and civilians during World War I galvanized public and military attitudes against their continued use. The Geneva Convention agreements, signed in 1925, restricted the use of chemical and biological agents in warfare and remain in effect today.')]"
      ]
     },
     "execution_count": 1,
     "metadata": {},
     "output_type": "execute_result"
    }
   ],
   "source": [
    "from langchain_community.document_loaders import TextLoader\n",
    "from langchain_community.vectorstores import FAISS\n",
    "from langchain_community.embeddings import OllamaEmbeddings\n",
    "from langchain_text_splitters import CharacterTextSplitter\n",
    "\n",
    "loader = TextLoader('sample.txt')\n",
    "docs = loader.load()\n",
    "docs"
   ]
  },
  {
   "cell_type": "code",
   "execution_count": 2,
   "metadata": {},
   "outputs": [
    {
     "name": "stderr",
     "output_type": "stream",
     "text": [
      "Created a chunk of size 375, which is longer than the specified 200\n",
      "Created a chunk of size 323, which is longer than the specified 200\n",
      "Created a chunk of size 212, which is longer than the specified 200\n",
      "Created a chunk of size 278, which is longer than the specified 200\n",
      "Created a chunk of size 360, which is longer than the specified 200\n",
      "Created a chunk of size 209, which is longer than the specified 200\n",
      "Created a chunk of size 273, which is longer than the specified 200\n",
      "Created a chunk of size 356, which is longer than the specified 200\n",
      "Created a chunk of size 374, which is longer than the specified 200\n",
      "Created a chunk of size 210, which is longer than the specified 200\n",
      "Created a chunk of size 214, which is longer than the specified 200\n",
      "Created a chunk of size 377, which is longer than the specified 200\n",
      "Created a chunk of size 215, which is longer than the specified 200\n",
      "Created a chunk of size 257, which is longer than the specified 200\n",
      "Created a chunk of size 290, which is longer than the specified 200\n",
      "Created a chunk of size 213, which is longer than the specified 200\n",
      "Created a chunk of size 318, which is longer than the specified 200\n",
      "Created a chunk of size 301, which is longer than the specified 200\n",
      "Created a chunk of size 311, which is longer than the specified 200\n",
      "Created a chunk of size 202, which is longer than the specified 200\n",
      "Created a chunk of size 413, which is longer than the specified 200\n",
      "Created a chunk of size 252, which is longer than the specified 200\n",
      "Created a chunk of size 402, which is longer than the specified 200\n",
      "Created a chunk of size 644, which is longer than the specified 200\n",
      "Created a chunk of size 320, which is longer than the specified 200\n",
      "Created a chunk of size 331, which is longer than the specified 200\n",
      "Created a chunk of size 269, which is longer than the specified 200\n",
      "Created a chunk of size 231, which is longer than the specified 200\n",
      "Created a chunk of size 361, which is longer than the specified 200\n",
      "Created a chunk of size 219, which is longer than the specified 200\n",
      "Created a chunk of size 252, which is longer than the specified 200\n",
      "Created a chunk of size 366, which is longer than the specified 200\n",
      "Created a chunk of size 508, which is longer than the specified 200\n",
      "Created a chunk of size 680, which is longer than the specified 200\n",
      "Created a chunk of size 338, which is longer than the specified 200\n",
      "Created a chunk of size 213, which is longer than the specified 200\n",
      "Created a chunk of size 625, which is longer than the specified 200\n",
      "Created a chunk of size 221, which is longer than the specified 200\n",
      "Created a chunk of size 361, which is longer than the specified 200\n",
      "Created a chunk of size 286, which is longer than the specified 200\n",
      "Created a chunk of size 215, which is longer than the specified 200\n",
      "Created a chunk of size 298, which is longer than the specified 200\n",
      "Created a chunk of size 220, which is longer than the specified 200\n",
      "Created a chunk of size 330, which is longer than the specified 200\n",
      "Created a chunk of size 242, which is longer than the specified 200\n"
     ]
    },
    {
     "data": {
      "text/plain": [
       "[Document(metadata={'source': 'sample.txt'}, page_content='World War I Books and Art'),\n",
       " Document(metadata={'source': 'sample.txt'}, page_content='The bloodshed on the battlefields of the Western Front, and the difficulties its soldiers had for years after the fighting had ended, inspired such works of art as “All Quiet on the Western Front” by Erich Maria Remarque and “In Flanders Fields” by Canadian doctor Lieutenant-Colonel John McCrae. In the latter poem, McCrae writes from the perspective of the fallen soldiers:'),\n",
       " Document(metadata={'source': 'sample.txt'}, page_content='Published in 1915, the poem inspired the use of the poppy as a symbol of remembrance.'),\n",
       " Document(metadata={'source': 'sample.txt'}, page_content='Visual artists like Otto Dix of Germany and British painters Wyndham Lewis, Paul Nash and David Bomberg used their firsthand experience as soldiers in World War I to create their art, capturing the anguish of trench warfare and exploring the themes of technology, violence and landscapes decimated by war.\\nThe Eastern Front'),\n",
       " Document(metadata={'source': 'sample.txt'}, page_content='On the Eastern Front of World War I, Russian forces invaded the German-held regions of East Prussia and Poland but were stopped short by German and Austrian forces at the Battle of Tannenberg in late August 1914.'),\n",
       " Document(metadata={'source': 'sample.txt'}, page_content='Despite that victory, Russia’s assault forced Germany to move two corps from the Western Front to the Eastern, contributing to the German loss in the Battle of the Marne.'),\n",
       " Document(metadata={'source': 'sample.txt'}, page_content='Combined with the fierce Allied resistance in France, the ability of Russia’s huge war machine to mobilize relatively quickly in the east ensured a longer, more grueling conflict instead of the quick victory Germany had hoped to win under the Schlieffen Plan.\\nRussian Revolution'),\n",
       " Document(metadata={'source': 'sample.txt'}, page_content='From 1914 to 1916, Russia’s army mounted several offensives on World War I’s Eastern Front but was unable to break through German lines.'),\n",
       " Document(metadata={'source': 'sample.txt'}, page_content='Defeat on the battlefield, combined with economic instability and the scarcity of food and other essentials, led to mounting discontent among the bulk of Russia’s population, especially the poverty-stricken workers and peasants. This increased hostility was directed toward the imperial regime of Czar Nicholas II and his unpopular German-born wife, Alexandra.'),\n",
       " Document(metadata={'source': 'sample.txt'}, page_content='Russia’s simmering instability exploded in the Russian Revolution of 1917, spearheaded by Vladimir Lenin and the Bolsheviks, which ended czarist rule and brought a halt to Russian participation in World War I.'),\n",
       " Document(metadata={'source': 'sample.txt'}, page_content='Russia reached an armistice with the Central Powers in early December 1917, freeing German troops to face the remaining Allies on the Western Front.\\nAmerica Enters World War I\\nLusitania'),\n",
       " Document(metadata={'source': 'sample.txt'}, page_content='At the outbreak of fighting in 1914, the United States remained on the sidelines of World War I, adopting the policy of neutrality favored by President Woodrow Wilson while continuing to engage in commerce and shipping with European countries on both sides of the conflict.'),\n",
       " Document(metadata={'source': 'sample.txt'}, page_content='Neutrality, however, it was increasingly difficult to maintain in the face of Germany’s unchecked submarine aggression against neutral ships, including those carrying passengers. In 1915, Germany declared the waters surrounding the British Isles to be a war zone, and German U-boats sunk several commercial and passenger vessels, including some U.S. ships.'),\n",
       " Document(metadata={'source': 'sample.txt'}, page_content='Widespread protest over the sinking by U-boat of the British ocean liner Lusitania—traveling from New York to Liverpool, England with hundreds of American passengers onboard—in May 1915 helped turn the tide of American public opinion against Germany. In February 1917, Congress passed a $250 million arms appropriations bill intended to make the United States ready for war.'),\n",
       " Document(metadata={'source': 'sample.txt'}, page_content='Germany sunk four more U.S. merchant ships the following month, and on April 2 Woodrow Wilson appeared before Congress and called for a declaration of war against Germany.\\nGallipoli Campaign\\nBattle of Gallipoli'),\n",
       " Document(metadata={'source': 'sample.txt'}, page_content='With World War I having effectively settled into a stalemate in Europe, the Allies attempted to score a victory against the Ottoman Empire, which entered the conflict on the side of the Central Powers in late 1914.'),\n",
       " Document(metadata={'source': 'sample.txt'}, page_content='After a failed attack on the Dardanelles (the strait linking the Sea of Marmara with the Aegean Sea), Allied forces led by Britain launched a large-scale land invasion of the Gallipoli Peninsula in April 1915. The invasion also proved a dismal failure, and in January 1916 Allied forces staged a full retreat from the shores of the peninsula after suffering 250,000 casualties.'),\n",
       " Document(metadata={'source': 'sample.txt'}, page_content='Did you know? The young Winston Churchill, then first lord of the British Admiralty, resigned his command after the failed Gallipoli campaign in 1916, accepting a commission with an infantry battalion in France.'),\n",
       " Document(metadata={'source': 'sample.txt'}, page_content='British-led forces also combated the Ottoman Turks in Egypt and Mesopotamia, while in northern Italy, Austrian and Italian troops faced off in a series of 12 battles along the Isonzo River, located at the border between the two nations.\\nBattle of the Isonzo'),\n",
       " Document(metadata={'source': 'sample.txt'}, page_content='The First Battle of the Isonzo took place in the late spring of 1915, soon after Italy’s entrance into the war on the Allied side. In the Twelfth Battle of the Isonzo, also known as the Battle of Caporetto (October 1917), German reinforcements helped Austria-Hungary win a decisive victory.'),\n",
       " Document(metadata={'source': 'sample.txt'}, page_content='After Caporetto, Italy’s allies jumped in to offer increased assistance. British and French—and later, American—troops arrived in the region, and the Allies began to take back the Italian Front.\\nWorld War I at Sea'),\n",
       " Document(metadata={'source': 'sample.txt'}, page_content='In the years before World War I, the superiority of Britain’s Royal Navy was unchallenged by any other nation’s fleet, but the Imperial German Navy had made substantial strides in closing the gap between the two naval powers. Germany’s strength on the high seas was also aided by its lethal fleet of U-boat submarines.'),\n",
       " Document(metadata={'source': 'sample.txt'}, page_content='After the Battle of Dogger Bank in January 1915, in which the British mounted a surprise attack on German ships in the North Sea, the German navy chose not to confront Britain’s mighty Royal Navy in a major battle for more than a year, preferring to rest the bulk of its naval strategy on its U-boats.'),\n",
       " Document(metadata={'source': 'sample.txt'}, page_content='The biggest naval engagement of World War I, the Battle of Jutland (May 1916) left British naval superiority on the North Sea intact, and Germany would make no further attempts to break an Allied naval blockade for the remainder of the war.\\n8 Events That Led to World War I, WWI\\n8 Events that Led to World War I'),\n",
       " Document(metadata={'source': 'sample.txt'}, page_content='Imperialism, nationalistic pride and mutual alliances all played a part in building tensions that would erupt into war.\\nRead more\\nHISTORY: World War I Battles, WWI Timeline\\nWorld War I Battles: Timeline'),\n",
       " Document(metadata={'source': 'sample.txt'}, page_content='For four years, from 1914 to 1918, World War I raged across Europe’s western and eastern fronts after growing tensions and then the assassination of Archduke Franz Ferdinand of Austria ignited the war. Trench warfare and the early use of tanks, submarines and airplanes meant the war’s battles were devastatingly bloody, claiming an estimated 40 […]\\nRead more\\n10 Things You May Not Know About the Battle of Verdun'),\n",
       " Document(metadata={'source': 'sample.txt'}, page_content='Explore 10 surprising facts about one of the longest and most brutal campaigns of World War I.\\nRead more\\nWorld War I Planes'),\n",
       " Document(metadata={'source': 'sample.txt'}, page_content='World War I was the first major conflict to harness the power of planes. Though not as impactful as the British Royal Navy or Germany’s U-boats, the use of planes in World War I presaged their later, pivotal role in military conflicts around the globe.'),\n",
       " Document(metadata={'source': 'sample.txt'}, page_content='At the dawn of World War I, aviation was a relatively new field; the Wright brothers took their first sustained flight just eleven years before, in 1903. Aircraft were initially used primarily for reconnaissance missions. During the First Battle of the Marne, information passed from pilots allowed the allies to exploit weak spots in the German lines, helping the Allies to push Germany out of France.'),\n",
       " Document(metadata={'source': 'sample.txt'}, page_content='The first machine guns were successfully mounted on planes in June of 1912 in the United States, but were imperfect; if timed incorrectly, a bullet could easily destroy the propeller of the plane it came from. The Morane-Saulnier L, a French plane, provided a solution: The propeller was armored with deflector wedges that prevented bullets from hitting it. The Morane-Saulnier Type L was used by the French, the British Royal Flying Corps (part of the Army), the British Royal Navy Air Service and the Imperial Russian Air Service. The British Bristol Type 22 was another popular model used for both reconnaissance work and as a fighter plane.'),\n",
       " Document(metadata={'source': 'sample.txt'}, page_content='Dutch inventor Anthony Fokker improved upon the French deflector system in 1915. His “interrupter” synchronized the firing of the guns with the plane’s propeller to avoid collisions. Though his most popular plane during WWI was the single-seat Fokker Eindecker, Fokker created over 40 kinds of airplanes for the Germans.'),\n",
       " Document(metadata={'source': 'sample.txt'}, page_content='The Allies debuted the Handley-Page HP O/400, the first two-engine bomber, in 1915. As aerial technology progressed, long-range heavy bombers like Germany’s Gotha G.V. (first introduced in 1917) were used to strike cities like London. Their speed and maneuverability proved to be far deadlier than Germany’s earlier Zeppelin raids.'),\n",
       " Document(metadata={'source': 'sample.txt'}, page_content='By the war’s end, the Allies were producing five times more aircraft than the Germans. On April 1, 1918, the British created the Royal Air Force, or RAF, the first air force to be a separate military branch independent from the navy or army. \\nSecond Battle of the Marne'),\n",
       " Document(metadata={'source': 'sample.txt'}, page_content='With Germany able to build up its strength on the Western Front after the armistice with Russia, Allied troops struggled to hold off another German offensive until promised reinforcements from the United States were able to arrive.'),\n",
       " Document(metadata={'source': 'sample.txt'}, page_content='On July 15, 1918, German troops launched what would become the last German offensive of the war, attacking French forces (joined by 85,000 American troops as well as some of the British Expeditionary Force) in the Second Battle of the Marne. The Allies successfully pushed back the German offensive and launched their own counteroffensive just three days later.'),\n",
       " Document(metadata={'source': 'sample.txt'}, page_content='After suffering massive casualties, Germany was forced to call off a planned offensive further north, in the Flanders region stretching between France and Belgium, which was envisioned as Germany’s best hope of victory.'),\n",
       " Document(metadata={'source': 'sample.txt'}, page_content='The Second Battle of the Marne turned the tide of war decisively towards the Allies, who were able to regain much of France and Belgium in the months that followed.\\nThe Harlem Hellfighters and Other All-Black Regiments\\nThe Legendary Harlem Hellfighters'),\n",
       " Document(metadata={'source': 'sample.txt'}, page_content='By the time World War I began, there were four all-Black regiments in the U.S. military: the 24th and 25th Infantry and the 9th and 10th Cavalry. All four regiments comprised of celebrated soldiers who fought in the Spanish-American War and American-Indian Wars, and served in the American territories. But they were not deployed for overseas combat in World War I.'),\n",
       " Document(metadata={'source': 'sample.txt'}, page_content='Blacks serving alongside white soldiers on the front lines in Europe was inconceivable to the U.S. military. Instead, the first African American troops sent overseas served in segregated labor battalions, restricted to menial roles in the Army and Navy, and shutout of the Marines, entirely. Their duties mostly included unloading ships, transporting materials from train depots, bases and ports, digging trenches, cooking and maintenance, removing barbed wire and inoperable equipment, and burying soldiers.'),\n",
       " Document(metadata={'source': 'sample.txt'}, page_content='Facing criticism from the Black community and civil rights organizations for its quotas and treatment of African American soldiers in the war effort, the military formed two Black combat units in 1917, the 92nd and 93rd Divisions. Trained separately and inadequately in the United States, the divisions fared differently in the war. The 92nd faced criticism for their performance in the Meuse-Argonne campaign in September 1918. The 93rd Division, however, had more success. \\nLove letters written by poet Rupert Brooke, to his sweetheart Phyllis Gardner, on display at the British Museum in London. (Credit: Matthew Fearn/PA Images/Getty Images)\\nHow World War I Changed Literature'),\n",
       " Document(metadata={'source': 'sample.txt'}, page_content='World War I altered the world for decades, and writers and poets reflected that shift in literature, novels and poetry.\\nRead more\\nGerman General Alfred Schlieffen, author of the Schlieffen Plan for the defeat of Russian and France. (Credit: Universal History Archive/Getty Images)\\nWas Germany Doomed in World War I by the Schlieffen Plan?'),\n",
       " Document(metadata={'source': 'sample.txt'}, page_content='The Schlieffen Plan, devised a decade before the start of World War I, was a failed strategy for Germany to win World War I.\\nRead more\\nHarlem Hellfighters\\nA Harlem Hellfighter’s Searing Tales from the WWI Trenches'),\n",
       " Document(metadata={'source': 'sample.txt'}, page_content='Blue clouds of poisonous gas. Relentless shelling and machine gun fire. Horace Pippin’s art-filled journals recorded life in ‘them lonely, cooty, muddy trenches.’\\nRead more'),\n",
       " Document(metadata={'source': 'sample.txt'}, page_content='With dwindling armies, France asked America for reinforcements, and General John Pershing, commander of the American Expeditionary Forces, sent regiments in the 93 Division to over, since France had experience fighting alongside Black soldiers from their Senegalese French Colonial army. The 93 Division’s 369 regiment, nicknamed the Harlem Hellfighters, fought so gallantly, with a total of 191 days on the front lines, longer than any AEF regiment, that France awarded them the Croix de Guerre for their heroism. More than 350,000 African American soldiers would serve in World War I in various capacities.\\nToward Armistice'),\n",
       " Document(metadata={'source': 'sample.txt'}, page_content='By the fall of 1918, the Central Powers were unraveling on all fronts.'),\n",
       " Document(metadata={'source': 'sample.txt'}, page_content='Despite the Turkish victory at Gallipoli, later defeats by invading forces and an Arab revolt that destroyed the Ottoman economy and devastated its land, and the Turks signed a treaty with the Allies in late October 1918.'),\n",
       " Document(metadata={'source': 'sample.txt'}, page_content='Austria-Hungary, dissolving from within due to growing nationalist movements among its diverse population, reached an armistice on November 4. Facing dwindling resources on the battlefield, discontent on the homefront and the surrender of its allies, Germany was finally forced to seek an armistice on November 11, 1918, ending World War I.\\nTreaty of Versailles'),\n",
       " Document(metadata={'source': 'sample.txt'}, page_content='At the Paris Peace Conference in 1919, Allied leaders stated their desire to build a post-war world that would safeguard itself against future conflicts of such a devastating scale.'),\n",
       " Document(metadata={'source': 'sample.txt'}, page_content='Some hopeful participants had even begun calling World War I “the War to End All Wars.” But the Treaty of Versailles, signed on June 28, 1919, would not achieve that lofty goal.'),\n",
       " Document(metadata={'source': 'sample.txt'}, page_content='Saddled with war guilt, heavy reparations and denied entrance into the League of Nations, Germany felt tricked into signing the treaty, having believed any peace would be a “peace without victory,” as put forward by President Wilson in his famous Fourteen Points speech of January 1918.'),\n",
       " Document(metadata={'source': 'sample.txt'}, page_content='As the years passed, hatred of the Versailles treaty and its authors settled into a smoldering resentment in Germany that would, two decades later, be counted among the causes of World War II.\\nWorld War I Casualties'),\n",
       " Document(metadata={'source': 'sample.txt'}, page_content='World War I took the lives of more than 9 million soldiers; 21 million more were wounded. Civilian casualties numbered close to 10 million. The two nations most affected were Germany and France, each of which sent some 80 percent of their male populations between the ages of 15 and 49 into battle.'),\n",
       " Document(metadata={'source': 'sample.txt'}, page_content='The political disruption surrounding World War I also contributed to the fall of four venerable imperial dynasties: Germany, Austria-Hungary, Russia and Turkey.\\nLegacy of World War I\\nThe Spanish Flu Was Deadlier Than WWI'),\n",
       " Document(metadata={'source': 'sample.txt'}, page_content='World War I brought about massive social upheaval, as millions of women entered the workforce to replace men who went to war and those who never came back. The first global war also helped to spread one of the world’s deadliest global pandemics, the Spanish flu epidemic of 1918, which killed an estimated 20 to 50 million people.'),\n",
       " Document(metadata={'source': 'sample.txt'}, page_content='World War I has also been referred to as “the first modern war.” Many of the technologies now associated with military conflict—machine guns, tanks, aerial combat and radio communications—were introduced on a massive scale during World War I.'),\n",
       " Document(metadata={'source': 'sample.txt'}, page_content='The severe effects that chemical weapons such as mustard gas and phosgene had on soldiers and civilians during World War I galvanized public and military attitudes against their continued use. The Geneva Convention agreements, signed in 1925, restricted the use of chemical and biological agents in warfare and remain in effect today.')]"
      ]
     },
     "execution_count": 2,
     "metadata": {},
     "output_type": "execute_result"
    }
   ],
   "source": [
    "text_splitter = CharacterTextSplitter(chunk_size=200, chunk_overlap=30)\n",
    "split_docs = text_splitter.split_documents(docs)\n",
    "split_docs"
   ]
  },
  {
   "cell_type": "code",
   "execution_count": 4,
   "metadata": {},
   "outputs": [
    {
     "data": {
      "text/plain": [
       "<langchain_community.vectorstores.faiss.FAISS at 0x270ddd01990>"
      ]
     },
     "execution_count": 4,
     "metadata": {},
     "output_type": "execute_result"
    }
   ],
   "source": [
    "ollama_embedding = OllamaEmbeddings()\n",
    "db = FAISS.from_documents(split_docs, ollama_embedding)\n",
    "db"
   ]
  },
  {
   "cell_type": "code",
   "execution_count": 8,
   "metadata": {},
   "outputs": [
    {
     "data": {
      "text/plain": [
       "[Document(metadata={'source': 'sample.txt'}, page_content='World War I altered the world for decades, and writers and poets reflected that shift in literature, novels and poetry.\\nRead more\\nGerman General Alfred Schlieffen, author of the Schlieffen Plan for the defeat of Russian and France. (Credit: Universal History Archive/Getty Images)\\nWas Germany Doomed in World War I by the Schlieffen Plan?'),\n",
       " Document(metadata={'source': 'sample.txt'}, page_content='After a failed attack on the Dardanelles (the strait linking the Sea of Marmara with the Aegean Sea), Allied forces led by Britain launched a large-scale land invasion of the Gallipoli Peninsula in April 1915. The invasion also proved a dismal failure, and in January 1916 Allied forces staged a full retreat from the shores of the peninsula after suffering 250,000 casualties.'),\n",
       " Document(metadata={'source': 'sample.txt'}, page_content='Facing criticism from the Black community and civil rights organizations for its quotas and treatment of African American soldiers in the war effort, the military formed two Black combat units in 1917, the 92nd and 93rd Divisions. Trained separately and inadequately in the United States, the divisions fared differently in the war. The 92nd faced criticism for their performance in the Meuse-Argonne campaign in September 1918. The 93rd Division, however, had more success. \\nLove letters written by poet Rupert Brooke, to his sweetheart Phyllis Gardner, on display at the British Museum in London. (Credit: Matthew Fearn/PA Images/Getty Images)\\nHow World War I Changed Literature'),\n",
       " Document(metadata={'source': 'sample.txt'}, page_content='World War I brought about massive social upheaval, as millions of women entered the workforce to replace men who went to war and those who never came back. The first global war also helped to spread one of the world’s deadliest global pandemics, the Spanish flu epidemic of 1918, which killed an estimated 20 to 50 million people.')]"
      ]
     },
     "execution_count": 8,
     "metadata": {},
     "output_type": "execute_result"
    }
   ],
   "source": [
    "# query with faiss db\n",
    "questions = [\n",
    "    \"How did the experiences of World War I soldiers influence the artistic and literary works of that era, such as those by Erich Maria Remarque and Otto Dix?\",\n",
    "    \"What role did the Russian army's mobilization and actions on the Eastern Front play in shaping Germany’s military strategy during World War I?\",\n",
    "    \"How did economic instability and public discontent contribute to the Russian Revolution of 1917, and what was the impact of this revolution on Russia’s involvement in World War I?\",\n",
    "    \"What were the key events that led to the United States entering World War I, and how did Germany’s submarine warfare influence American public opinion and policy?\"\n",
    "]\n",
    "\n",
    "search_results = db.similarity_search(questions[0])\n",
    "search_results"
   ]
  },
  {
   "cell_type": "markdown",
   "metadata": {},
   "source": [
    "### As a Retriever"
   ]
  },
  {
   "cell_type": "code",
   "execution_count": 7,
   "metadata": {},
   "outputs": [
    {
     "data": {
      "text/plain": [
       "[Document(metadata={'source': 'sample.txt'}, page_content='World War I altered the world for decades, and writers and poets reflected that shift in literature, novels and poetry.\\nRead more\\nGerman General Alfred Schlieffen, author of the Schlieffen Plan for the defeat of Russian and France. (Credit: Universal History Archive/Getty Images)\\nWas Germany Doomed in World War I by the Schlieffen Plan?'),\n",
       " Document(metadata={'source': 'sample.txt'}, page_content='After a failed attack on the Dardanelles (the strait linking the Sea of Marmara with the Aegean Sea), Allied forces led by Britain launched a large-scale land invasion of the Gallipoli Peninsula in April 1915. The invasion also proved a dismal failure, and in January 1916 Allied forces staged a full retreat from the shores of the peninsula after suffering 250,000 casualties.'),\n",
       " Document(metadata={'source': 'sample.txt'}, page_content='Facing criticism from the Black community and civil rights organizations for its quotas and treatment of African American soldiers in the war effort, the military formed two Black combat units in 1917, the 92nd and 93rd Divisions. Trained separately and inadequately in the United States, the divisions fared differently in the war. The 92nd faced criticism for their performance in the Meuse-Argonne campaign in September 1918. The 93rd Division, however, had more success. \\nLove letters written by poet Rupert Brooke, to his sweetheart Phyllis Gardner, on display at the British Museum in London. (Credit: Matthew Fearn/PA Images/Getty Images)\\nHow World War I Changed Literature'),\n",
       " Document(metadata={'source': 'sample.txt'}, page_content='World War I brought about massive social upheaval, as millions of women entered the workforce to replace men who went to war and those who never came back. The first global war also helped to spread one of the world’s deadliest global pandemics, the Spanish flu epidemic of 1918, which killed an estimated 20 to 50 million people.')]"
      ]
     },
     "execution_count": 7,
     "metadata": {},
     "output_type": "execute_result"
    }
   ],
   "source": [
    "db_retriever = db.as_retriever()\n",
    "query_retriver_results = db_retriever.invoke(questions[0])\n",
    "query_retriver_results"
   ]
  },
  {
   "cell_type": "markdown",
   "metadata": {},
   "source": [
    "### Similarity Search With Score"
   ]
  },
  {
   "cell_type": "code",
   "execution_count": 9,
   "metadata": {},
   "outputs": [
    {
     "data": {
      "text/plain": [
       "[(Document(metadata={'source': 'sample.txt'}, page_content='World War I altered the world for decades, and writers and poets reflected that shift in literature, novels and poetry.\\nRead more\\nGerman General Alfred Schlieffen, author of the Schlieffen Plan for the defeat of Russian and France. (Credit: Universal History Archive/Getty Images)\\nWas Germany Doomed in World War I by the Schlieffen Plan?'),\n",
       "  9267.145),\n",
       " (Document(metadata={'source': 'sample.txt'}, page_content='After a failed attack on the Dardanelles (the strait linking the Sea of Marmara with the Aegean Sea), Allied forces led by Britain launched a large-scale land invasion of the Gallipoli Peninsula in April 1915. The invasion also proved a dismal failure, and in January 1916 Allied forces staged a full retreat from the shores of the peninsula after suffering 250,000 casualties.'),\n",
       "  10920.0),\n",
       " (Document(metadata={'source': 'sample.txt'}, page_content='Facing criticism from the Black community and civil rights organizations for its quotas and treatment of African American soldiers in the war effort, the military formed two Black combat units in 1917, the 92nd and 93rd Divisions. Trained separately and inadequately in the United States, the divisions fared differently in the war. The 92nd faced criticism for their performance in the Meuse-Argonne campaign in September 1918. The 93rd Division, however, had more success. \\nLove letters written by poet Rupert Brooke, to his sweetheart Phyllis Gardner, on display at the British Museum in London. (Credit: Matthew Fearn/PA Images/Getty Images)\\nHow World War I Changed Literature'),\n",
       "  12495.881),\n",
       " (Document(metadata={'source': 'sample.txt'}, page_content='World War I brought about massive social upheaval, as millions of women entered the workforce to replace men who went to war and those who never came back. The first global war also helped to spread one of the world’s deadliest global pandemics, the Spanish flu epidemic of 1918, which killed an estimated 20 to 50 million people.'),\n",
       "  12754.77)]"
      ]
     },
     "execution_count": 9,
     "metadata": {},
     "output_type": "execute_result"
    }
   ],
   "source": [
    "query_search_result_scores = db.similarity_search_with_score(questions[0])\n",
    "query_search_result_scores"
   ]
  },
  {
   "cell_type": "markdown",
   "metadata": {},
   "source": [
    "### Search by vector"
   ]
  },
  {
   "cell_type": "code",
   "execution_count": 10,
   "metadata": {},
   "outputs": [
    {
     "data": {
      "text/plain": [
       "[(Document(metadata={'source': 'sample.txt'}, page_content='World War I altered the world for decades, and writers and poets reflected that shift in literature, novels and poetry.\\nRead more\\nGerman General Alfred Schlieffen, author of the Schlieffen Plan for the defeat of Russian and France. (Credit: Universal History Archive/Getty Images)\\nWas Germany Doomed in World War I by the Schlieffen Plan?'),\n",
       "  9267.145),\n",
       " (Document(metadata={'source': 'sample.txt'}, page_content='After a failed attack on the Dardanelles (the strait linking the Sea of Marmara with the Aegean Sea), Allied forces led by Britain launched a large-scale land invasion of the Gallipoli Peninsula in April 1915. The invasion also proved a dismal failure, and in January 1916 Allied forces staged a full retreat from the shores of the peninsula after suffering 250,000 casualties.'),\n",
       "  10920.0),\n",
       " (Document(metadata={'source': 'sample.txt'}, page_content='Facing criticism from the Black community and civil rights organizations for its quotas and treatment of African American soldiers in the war effort, the military formed two Black combat units in 1917, the 92nd and 93rd Divisions. Trained separately and inadequately in the United States, the divisions fared differently in the war. The 92nd faced criticism for their performance in the Meuse-Argonne campaign in September 1918. The 93rd Division, however, had more success. \\nLove letters written by poet Rupert Brooke, to his sweetheart Phyllis Gardner, on display at the British Museum in London. (Credit: Matthew Fearn/PA Images/Getty Images)\\nHow World War I Changed Literature'),\n",
       "  12495.881),\n",
       " (Document(metadata={'source': 'sample.txt'}, page_content='World War I brought about massive social upheaval, as millions of women entered the workforce to replace men who went to war and those who never came back. The first global war also helped to spread one of the world’s deadliest global pandemics, the Spanish flu epidemic of 1918, which killed an estimated 20 to 50 million people.'),\n",
       "  12754.77)]"
      ]
     },
     "execution_count": 10,
     "metadata": {},
     "output_type": "execute_result"
    }
   ],
   "source": [
    "query_embedding = ollama_embedding.embed_query(questions[0])\n",
    "vector_search_result_scores = db.similarity_search_with_score_by_vector(query_embedding)\n",
    "vector_search_result_scores\n"
   ]
  },
  {
   "cell_type": "markdown",
   "metadata": {},
   "source": [
    "### Save DB into local"
   ]
  },
  {
   "cell_type": "code",
   "execution_count": 11,
   "metadata": {},
   "outputs": [],
   "source": [
    "db.save_local('faiss_index')"
   ]
  },
  {
   "cell_type": "markdown",
   "metadata": {},
   "source": [
    "### Load and search query"
   ]
  },
  {
   "cell_type": "code",
   "execution_count": 13,
   "metadata": {},
   "outputs": [
    {
     "data": {
      "text/plain": [
       "[Document(metadata={'source': 'sample.txt'}, page_content='World War I altered the world for decades, and writers and poets reflected that shift in literature, novels and poetry.\\nRead more\\nGerman General Alfred Schlieffen, author of the Schlieffen Plan for the defeat of Russian and France. (Credit: Universal History Archive/Getty Images)\\nWas Germany Doomed in World War I by the Schlieffen Plan?'),\n",
       " Document(metadata={'source': 'sample.txt'}, page_content='After a failed attack on the Dardanelles (the strait linking the Sea of Marmara with the Aegean Sea), Allied forces led by Britain launched a large-scale land invasion of the Gallipoli Peninsula in April 1915. The invasion also proved a dismal failure, and in January 1916 Allied forces staged a full retreat from the shores of the peninsula after suffering 250,000 casualties.'),\n",
       " Document(metadata={'source': 'sample.txt'}, page_content='Facing criticism from the Black community and civil rights organizations for its quotas and treatment of African American soldiers in the war effort, the military formed two Black combat units in 1917, the 92nd and 93rd Divisions. Trained separately and inadequately in the United States, the divisions fared differently in the war. The 92nd faced criticism for their performance in the Meuse-Argonne campaign in September 1918. The 93rd Division, however, had more success. \\nLove letters written by poet Rupert Brooke, to his sweetheart Phyllis Gardner, on display at the British Museum in London. (Credit: Matthew Fearn/PA Images/Getty Images)\\nHow World War I Changed Literature'),\n",
       " Document(metadata={'source': 'sample.txt'}, page_content='World War I brought about massive social upheaval, as millions of women entered the workforce to replace men who went to war and those who never came back. The first global war also helped to spread one of the world’s deadliest global pandemics, the Spanish flu epidemic of 1918, which killed an estimated 20 to 50 million people.')]"
      ]
     },
     "execution_count": 13,
     "metadata": {},
     "output_type": "execute_result"
    }
   ],
   "source": [
    "new_db = FAISS.load_local(\"faiss_index\", ollama_embedding, allow_dangerous_deserialization=True)\n",
    "docs_results = new_db.similarity_search(questions[0])\n",
    "docs_results"
   ]
  },
  {
   "cell_type": "code",
   "execution_count": null,
   "metadata": {},
   "outputs": [],
   "source": []
  }
 ],
 "metadata": {
  "kernelspec": {
   "display_name": "Python 3",
   "language": "python",
   "name": "python3"
  },
  "language_info": {
   "codemirror_mode": {
    "name": "ipython",
    "version": 3
   },
   "file_extension": ".py",
   "mimetype": "text/x-python",
   "name": "python",
   "nbconvert_exporter": "python",
   "pygments_lexer": "ipython3",
   "version": "3.10.0"
  }
 },
 "nbformat": 4,
 "nbformat_minor": 2
}
