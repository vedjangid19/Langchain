{
 "cells": [
  {
   "cell_type": "code",
   "execution_count": 1,
   "metadata": {},
   "outputs": [],
   "source": [
    "import os \n",
    "from dotenv import load_dotenv\n",
    "\n",
    "\n",
    "load_dotenv()\n",
    "\n",
    "groq_api_key = os.getenv('GROQ_API_KEY')"
   ]
  },
  {
   "cell_type": "code",
   "execution_count": 2,
   "metadata": {},
   "outputs": [
    {
     "data": {
      "text/plain": [
       "ChatGroq(client=<groq.resources.chat.completions.Completions object at 0x00000155BD0868F0>, async_client=<groq.resources.chat.completions.AsyncCompletions object at 0x00000155BD085630>, model_name='gemma2-9b-it', model_kwargs={}, groq_api_key=SecretStr('**********'))"
      ]
     },
     "execution_count": 2,
     "metadata": {},
     "output_type": "execute_result"
    }
   ],
   "source": [
    "from langchain_groq import ChatGroq\n",
    "\n",
    "model = ChatGroq(model='gemma2-9b-it', groq_api_key=groq_api_key)\n",
    "model"
   ]
  },
  {
   "cell_type": "code",
   "execution_count": 3,
   "metadata": {},
   "outputs": [
    {
     "data": {
      "text/plain": [
       "AIMessage(content='Hello Ved, it\\'s nice to meet you!\\n\\nAs a large language model, I don\\'t have personal experiences or titles like \"Chief AI Engineer,\" but I\\'m here to help with any AI-related tasks or questions you might have.\\n\\nWhat can I do for you today? 😊  \\n\\n', additional_kwargs={}, response_metadata={'token_usage': {'completion_tokens': 67, 'prompt_tokens': 23, 'total_tokens': 90, 'completion_time': 0.121818182, 'prompt_time': 0.00016905, 'queue_time': 0.019949779, 'total_time': 0.121987232}, 'model_name': 'gemma2-9b-it', 'system_fingerprint': 'fp_10c08bf97d', 'finish_reason': 'stop', 'logprobs': None}, id='run-8819a391-b4ec-4e5b-9015-74b2b418ccca-0', usage_metadata={'input_tokens': 23, 'output_tokens': 67, 'total_tokens': 90})"
      ]
     },
     "execution_count": 3,
     "metadata": {},
     "output_type": "execute_result"
    }
   ],
   "source": [
    "from  langchain_core.messages import HumanMessage\n",
    "\n",
    "res1 = model.invoke(\n",
    "    [\n",
    "        HumanMessage(content='Hi, My name is ved and I am Cheif AI Engineer.')\n",
    "    ]\n",
    ")\n",
    "res1"
   ]
  },
  {
   "cell_type": "code",
   "execution_count": 4,
   "metadata": {},
   "outputs": [
    {
     "data": {
      "text/plain": [
       "AIMessage(content=\"You told me your name is Ved and that you are the Chief AI Engineer.  \\n\\nIs there anything else you'd like to tell me about yourself or your work? I'm always eager to learn more! 😊  \\n\", additional_kwargs={}, response_metadata={'token_usage': {'completion_tokens': 49, 'prompt_tokens': 107, 'total_tokens': 156, 'completion_time': 0.089090909, 'prompt_time': 0.00369559, 'queue_time': 0.020295615000000003, 'total_time': 0.092786499}, 'model_name': 'gemma2-9b-it', 'system_fingerprint': 'fp_10c08bf97d', 'finish_reason': 'stop', 'logprobs': None}, id='run-3bf67eab-5c42-4e11-b64b-4538400c697d-0', usage_metadata={'input_tokens': 107, 'output_tokens': 49, 'total_tokens': 156})"
      ]
     },
     "execution_count": 4,
     "metadata": {},
     "output_type": "execute_result"
    }
   ],
   "source": [
    "from langchain_core.messages import AIMessage\n",
    "\n",
    "res2 = model.invoke(\n",
    "    [\n",
    "        HumanMessage(content='Hi, My name is ved and I am Cheif AI Engineer.'),\n",
    "        AIMessage(content='Hello Ved, it\\'s nice to meet you!\\n\\nAs a large language model, I don\\'t have personal experiences or titles like \"Chief AI Engineer,\" but I\\'m here to help with any AI-related tasks or questions you might have.\\n\\nWhat can I do for you today? 😊  \\n\\n'),\n",
    "        HumanMessage(content=\"What's my name and what i do?\")\n",
    "    ]\n",
    ")\n",
    "res2"
   ]
  },
  {
   "cell_type": "code",
   "execution_count": 11,
   "metadata": {},
   "outputs": [],
   "source": [
    "from langchain_community.chat_message_histories import ChatMessageHistory\n",
    "from langchain_core.chat_history import BaseChatMessageHistory\n",
    "from langchain_core.runnables import RunnableWithMessageHistory\n",
    "\n",
    "store = {}\n",
    "\n",
    "def get_session_history(session_id:str)->BaseChatMessageHistory:\n",
    "    \n",
    "    if session_id not in store:\n",
    "        store[session_id] = ChatMessageHistory()\n",
    "    return store[session_id]"
   ]
  },
  {
   "cell_type": "code",
   "execution_count": 12,
   "metadata": {},
   "outputs": [
    {
     "data": {
      "text/plain": [
       "AIMessage(content=\"Hello Ved! It's nice to meet you.  \\n\\nThat's a fascinating title! As a large language model, I'm always interested in learning more about the work of AI engineers. What kind of projects are you working on these days?\\n\", additional_kwargs={}, response_metadata={'token_usage': {'completion_tokens': 55, 'prompt_tokens': 23, 'total_tokens': 78, 'completion_time': 0.1, 'prompt_time': 0.00013867, 'queue_time': 0.022603568, 'total_time': 0.10013867}, 'model_name': 'gemma2-9b-it', 'system_fingerprint': 'fp_10c08bf97d', 'finish_reason': 'stop', 'logprobs': None}, id='run-0f07cfbb-4ff1-4ab2-9ffa-09ba4feffe5f-0', usage_metadata={'input_tokens': 23, 'output_tokens': 55, 'total_tokens': 78})"
      ]
     },
     "execution_count": 12,
     "metadata": {},
     "output_type": "execute_result"
    }
   ],
   "source": [
    "with_message_history = RunnableWithMessageHistory(model, get_session_history)\n",
    "\n",
    "config = {\"configurable\": {\"session_id\":\"chat1\"}}\n",
    "\n",
    "res3 = with_message_history.invoke(\n",
    "    HumanMessage(content=\"Hi, My name is ved and I am Cheif AI Engineer.\"),\n",
    "    config=config\n",
    ")\n",
    "res3"
   ]
  },
  {
   "cell_type": "code",
   "execution_count": 13,
   "metadata": {},
   "outputs": [
    {
     "data": {
      "text/plain": [
       "AIMessage(content=\"Your name is Ved.  \\n\\nYou told me at the beginning of our conversation! 😊  It's nice to know your name.\\n\", additional_kwargs={}, response_metadata={'token_usage': {'completion_tokens': 31, 'prompt_tokens': 90, 'total_tokens': 121, 'completion_time': 0.056363636, 'prompt_time': 0.003253815, 'queue_time': 0.0201902, 'total_time': 0.059617451}, 'model_name': 'gemma2-9b-it', 'system_fingerprint': 'fp_10c08bf97d', 'finish_reason': 'stop', 'logprobs': None}, id='run-e3da8601-5078-44b9-b23f-5d85307ebc9b-0', usage_metadata={'input_tokens': 90, 'output_tokens': 31, 'total_tokens': 121})"
      ]
     },
     "execution_count": 13,
     "metadata": {},
     "output_type": "execute_result"
    }
   ],
   "source": [
    "res4 = with_message_history.invoke(\n",
    "    HumanMessage(content=\"whats my name?\"),\n",
    "    config=config\n",
    ")\n",
    "res4"
   ]
  },
  {
   "cell_type": "code",
   "execution_count": 15,
   "metadata": {},
   "outputs": [
    {
     "data": {
      "text/plain": [
       "AIMessage(content='As an AI, I have no memory of past conversations and no access to your personal information, including your name.\\n\\nTo let me know your name, you can simply tell me! 😊\\n', additional_kwargs={}, response_metadata={'token_usage': {'completion_tokens': 41, 'prompt_tokens': 13, 'total_tokens': 54, 'completion_time': 0.074545455, 'prompt_time': 7.741e-05, 'queue_time': 0.024138188, 'total_time': 0.074622865}, 'model_name': 'gemma2-9b-it', 'system_fingerprint': 'fp_10c08bf97d', 'finish_reason': 'stop', 'logprobs': None}, id='run-db170240-b67e-4182-bdc7-ab96cb354573-0', usage_metadata={'input_tokens': 13, 'output_tokens': 41, 'total_tokens': 54})"
      ]
     },
     "execution_count": 15,
     "metadata": {},
     "output_type": "execute_result"
    }
   ],
   "source": [
    "config1 = {\"configurable\": {\"session_id\": \"chat-2\"}}\n",
    "\n",
    "res5 = with_message_history.invoke(\n",
    "    HumanMessage(content=\"whats my name?\"),\n",
    "    config=config1\n",
    ")\n",
    "res5"
   ]
  },
  {
   "cell_type": "code",
   "execution_count": null,
   "metadata": {},
   "outputs": [],
   "source": []
  }
 ],
 "metadata": {
  "kernelspec": {
   "display_name": "Python 3",
   "language": "python",
   "name": "python3"
  },
  "language_info": {
   "codemirror_mode": {
    "name": "ipython",
    "version": 3
   },
   "file_extension": ".py",
   "mimetype": "text/x-python",
   "name": "python",
   "nbconvert_exporter": "python",
   "pygments_lexer": "ipython3",
   "version": "3.10.0"
  }
 },
 "nbformat": 4,
 "nbformat_minor": 2
}
